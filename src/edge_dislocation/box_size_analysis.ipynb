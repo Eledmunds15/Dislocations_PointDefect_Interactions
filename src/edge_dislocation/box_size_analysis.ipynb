{
 "cells": [
  {
   "cell_type": "code",
   "execution_count": 1,
   "metadata": {},
   "outputs": [],
   "source": [
    "## Box Size analysis\n",
    "# Ethan L. Edmunds"
   ]
  },
  {
   "cell_type": "code",
   "execution_count": 2,
   "metadata": {},
   "outputs": [],
   "source": [
    "# Import Libraries\n",
    "import numpy as np\n",
    "import pandas as pd\n",
    "import matplotlib.pyplot as plt"
   ]
  },
  {
   "cell_type": "code",
   "execution_count": 3,
   "metadata": {},
   "outputs": [
    {
     "name": "stderr",
     "output_type": "stream",
     "text": [
      "C:\\Users\\Ethan\\AppData\\Local\\Temp\\ipykernel_7640\\4191085669.py:4: FutureWarning: The 'delim_whitespace' keyword in pd.read_csv is deprecated and will be removed in a future version. Use ``sep='\\s+'`` instead\n",
      "  boxData = pd.read_csv(fileName, delim_whitespace=True, header=None, skiprows=1) # Read the data from the textfile and skip the first row\n"
     ]
    },
    {
     "data": {
      "text/html": [
       "<div>\n",
       "<style scoped>\n",
       "    .dataframe tbody tr th:only-of-type {\n",
       "        vertical-align: middle;\n",
       "    }\n",
       "\n",
       "    .dataframe tbody tr th {\n",
       "        vertical-align: top;\n",
       "    }\n",
       "\n",
       "    .dataframe thead th {\n",
       "        text-align: right;\n",
       "    }\n",
       "</style>\n",
       "<table border=\"1\" class=\"dataframe\">\n",
       "  <thead>\n",
       "    <tr style=\"text-align: right;\">\n",
       "      <th></th>\n",
       "      <th>Step</th>\n",
       "      <th>Length_X</th>\n",
       "      <th>Length_Y</th>\n",
       "      <th>Length_Z</th>\n",
       "    </tr>\n",
       "  </thead>\n",
       "  <tbody>\n",
       "    <tr>\n",
       "      <th>0</th>\n",
       "      <td>0</td>\n",
       "      <td>14.113221</td>\n",
       "      <td>28.226442</td>\n",
       "      <td>56.452884</td>\n",
       "    </tr>\n",
       "    <tr>\n",
       "      <th>1</th>\n",
       "      <td>250</td>\n",
       "      <td>14.113221</td>\n",
       "      <td>28.226442</td>\n",
       "      <td>56.466997</td>\n",
       "    </tr>\n",
       "    <tr>\n",
       "      <th>2</th>\n",
       "      <td>500</td>\n",
       "      <td>14.113221</td>\n",
       "      <td>28.226442</td>\n",
       "      <td>56.481110</td>\n",
       "    </tr>\n",
       "    <tr>\n",
       "      <th>3</th>\n",
       "      <td>750</td>\n",
       "      <td>14.113221</td>\n",
       "      <td>28.226442</td>\n",
       "      <td>56.495223</td>\n",
       "    </tr>\n",
       "    <tr>\n",
       "      <th>4</th>\n",
       "      <td>1000</td>\n",
       "      <td>14.113221</td>\n",
       "      <td>28.226442</td>\n",
       "      <td>56.509337</td>\n",
       "    </tr>\n",
       "  </tbody>\n",
       "</table>\n",
       "</div>"
      ],
      "text/plain": [
       "   Step   Length_X   Length_Y   Length_Z\n",
       "0     0  14.113221  28.226442  56.452884\n",
       "1   250  14.113221  28.226442  56.466997\n",
       "2   500  14.113221  28.226442  56.481110\n",
       "3   750  14.113221  28.226442  56.495223\n",
       "4  1000  14.113221  28.226442  56.509337"
      ]
     },
     "execution_count": 3,
     "metadata": {},
     "output_type": "execute_result"
    }
   ],
   "source": [
    "# Extract the data from the text file\n",
    "fileName = \"box_info.txt\"\n",
    "\n",
    "boxData = pd.read_csv(fileName, delim_whitespace=True, header=None, skiprows=1) # Read the data from the textfile and skip the first row\n",
    "\n",
    "boxData.columns = ['Step', 'Length_X', 'Length_Y', 'Length_Z'] # Append the column headers\n",
    "\n",
    "boxData.head()"
   ]
  },
  {
   "cell_type": "code",
   "execution_count": 4,
   "metadata": {},
   "outputs": [
    {
     "data": {
      "image/png": "[encoded data removed]",
      "text/plain": [
       "<Figure size 800x600 with 1 Axes>"
      ]
     },
     "metadata": {},
     "output_type": "display_data"
    }
   ],
   "source": [
    "# Plot the data on a graph\n",
    "plt.figure(figsize=(8,6))\n",
    "plt.plot(boxData['Step'], boxData['Length_X'], label='X axis', color='blue', marker='o')\n",
    "plt.plot(boxData['Step'], boxData['Length_Y'], label='Y axis', color='red', marker='o')\n",
    "plt.plot(boxData['Step'], boxData['Length_Z'], label='Z axis', color='green', marker='o')\n",
    "\n",
    "plt.title('Box Data for LAMMPS Simulation at 300K')\n",
    "plt.xlabel('Step')\n",
    "plt.ylabel('Length')\n",
    "plt.legend(fontsize=8)\n",
    "\n",
    "plt.savefig('Box Dimensions Data', dpi=500)\n",
    "\n",
    "plt.show()\n",
    "\n"
   ]
  }
 ],
 "metadata": {
  "kernelspec": {
   "display_name": "Python 3",
   "language": "python",
   "name": "python3"
  },
  "language_info": {
   "codemirror_mode": {
    "name": "ipython",
    "version": 3
   },
   "file_extension": ".py",
   "mimetype": "text/x-python",
   "name": "python",
   "nbconvert_exporter": "python",
   "pygments_lexer": "ipython3",
   "version": "3.12.7"
  }
 },
 "nbformat": 4,
 "nbformat_minor": 2
}
